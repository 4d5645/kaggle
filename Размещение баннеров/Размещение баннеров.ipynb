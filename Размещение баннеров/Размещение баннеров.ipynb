{
 "cells": [
  {
   "cell_type": "markdown",
   "id": "56261dd9",
   "metadata": {},
   "source": [
    "# Размещение баннеров"
   ]
  },
  {
   "cell_type": "markdown",
   "id": "ef7658f0",
   "metadata": {},
   "source": [
    "Представим, что международное круизное агентство Carnival Cruise Line решило себя разрекламировать с помощью баннеров и обратилось для этого к нам. Чтобы протестировать, велика ли от таких баннеров польза, их будет размещено всего 20 штук по всему миру. Нам надо выбрать 20 таких локаций для размещения, чтобы польза была большой и агентство продолжило с нами сотрудничать."
   ]
  },
  {
   "cell_type": "code",
   "execution_count": 2,
   "id": "6f77df0f",
   "metadata": {},
   "outputs": [],
   "source": [
    "import warnings\n",
    "warnings.filterwarnings('ignore')"
   ]
  },
  {
   "cell_type": "code",
   "execution_count": 3,
   "id": "4eb96cfc",
   "metadata": {},
   "outputs": [],
   "source": [
    "import pandas as pd\n",
    "import numpy as np\n",
    "import sklearn"
   ]
  },
  {
   "cell_type": "markdown",
   "id": "ca8a6ea1",
   "metadata": {},
   "source": [
    "Агентство крупное, и у него есть несколько офисов по всему миру. Вблизи этих офисов оно и хочет разместить баннеры — легче договариваться и проверять результат. Также эти места должны быть популярны среди туристов.\n",
    "\n",
    "Для поиска оптимальных мест воспользуемся базой данных крупнейшей социальной сети, основанной на локациях — Foursquare."
   ]
  },
  {
   "cell_type": "code",
   "execution_count": 4,
   "id": "c8447b16",
   "metadata": {},
   "outputs": [],
   "source": [
    "data = pd.read_csv(\"checkins.csv\", sep='|',skipinitialspace=True, skiprows=[1])"
   ]
  },
  {
   "cell_type": "code",
   "execution_count": 5,
   "id": "65e5cd96",
   "metadata": {},
   "outputs": [
    {
     "data": {
      "text/html": [
       "<div>\n",
       "<style scoped>\n",
       "    .dataframe tbody tr th:only-of-type {\n",
       "        vertical-align: middle;\n",
       "    }\n",
       "\n",
       "    .dataframe tbody tr th {\n",
       "        vertical-align: top;\n",
       "    }\n",
       "\n",
       "    .dataframe thead th {\n",
       "        text-align: right;\n",
       "    }\n",
       "</style>\n",
       "<table border=\"1\" class=\"dataframe\">\n",
       "  <thead>\n",
       "    <tr style=\"text-align: right;\">\n",
       "      <th></th>\n",
       "      <th>id</th>\n",
       "      <th>user_id</th>\n",
       "      <th>venue_id</th>\n",
       "      <th>latitude</th>\n",
       "      <th>longitude</th>\n",
       "      <th>created_at</th>\n",
       "    </tr>\n",
       "  </thead>\n",
       "  <tbody>\n",
       "    <tr>\n",
       "      <th>0</th>\n",
       "      <td>984301</td>\n",
       "      <td>2041916.0</td>\n",
       "      <td>5222.0</td>\n",
       "      <td>NaN</td>\n",
       "      <td>NaN</td>\n",
       "      <td>2012-04-21 17:39:01</td>\n",
       "    </tr>\n",
       "    <tr>\n",
       "      <th>1</th>\n",
       "      <td>984222</td>\n",
       "      <td>15824.0</td>\n",
       "      <td>5222.0</td>\n",
       "      <td>38.895112</td>\n",
       "      <td>-77.036366</td>\n",
       "      <td>2012-04-21 17:43:47</td>\n",
       "    </tr>\n",
       "    <tr>\n",
       "      <th>2</th>\n",
       "      <td>984315</td>\n",
       "      <td>1764391.0</td>\n",
       "      <td>5222.0</td>\n",
       "      <td>NaN</td>\n",
       "      <td>NaN</td>\n",
       "      <td>2012-04-21 17:37:18</td>\n",
       "    </tr>\n",
       "    <tr>\n",
       "      <th>3</th>\n",
       "      <td>984234</td>\n",
       "      <td>44652.0</td>\n",
       "      <td>5222.0</td>\n",
       "      <td>33.800745</td>\n",
       "      <td>-84.410520</td>\n",
       "      <td>2012-04-21 17:43:43</td>\n",
       "    </tr>\n",
       "    <tr>\n",
       "      <th>4</th>\n",
       "      <td>984249</td>\n",
       "      <td>2146840.0</td>\n",
       "      <td>5222.0</td>\n",
       "      <td>NaN</td>\n",
       "      <td>NaN</td>\n",
       "      <td>2012-04-21 17:42:58</td>\n",
       "    </tr>\n",
       "  </tbody>\n",
       "</table>\n",
       "</div>"
      ],
      "text/plain": [
       "   id       user_id   venue_id   latitude        longitude       \\\n",
       "0  984301  2041916.0     5222.0             NaN             NaN   \n",
       "1  984222    15824.0     5222.0       38.895112      -77.036366   \n",
       "2  984315  1764391.0     5222.0             NaN             NaN   \n",
       "3  984234    44652.0     5222.0       33.800745      -84.410520   \n",
       "4  984249  2146840.0     5222.0             NaN             NaN   \n",
       "\n",
       "      created_at        \n",
       "0  2012-04-21 17:39:01  \n",
       "1  2012-04-21 17:43:47  \n",
       "2  2012-04-21 17:37:18  \n",
       "3  2012-04-21 17:43:43  \n",
       "4  2012-04-21 17:42:58  "
      ]
     },
     "execution_count": 5,
     "metadata": {},
     "output_type": "execute_result"
    }
   ],
   "source": [
    "data.head()"
   ]
  },
  {
   "cell_type": "code",
   "execution_count": 6,
   "id": "cd841c19",
   "metadata": {},
   "outputs": [
    {
     "name": "stdout",
     "output_type": "stream",
     "text": [
      "<class 'pandas.core.frame.DataFrame'>\n",
      "RangeIndex: 1021967 entries, 0 to 1021966\n",
      "Data columns (total 6 columns):\n",
      " #   Column            Non-Null Count    Dtype  \n",
      "---  ------            --------------    -----  \n",
      " 0   id                1021967 non-null  object \n",
      " 1   user_id           1021966 non-null  float64\n",
      " 2   venue_id          1021966 non-null  float64\n",
      " 3   latitude          396634 non-null   float64\n",
      " 4   longitude         396634 non-null   float64\n",
      " 5   created_at        1021966 non-null  object \n",
      "dtypes: float64(4), object(2)\n",
      "memory usage: 46.8+ MB\n"
     ]
    }
   ],
   "source": [
    "data.info()"
   ]
  },
  {
   "cell_type": "code",
   "execution_count": 7,
   "id": "8f8fce6f",
   "metadata": {},
   "outputs": [],
   "source": [
    "data.dropna(how='any', inplace=True)"
   ]
  },
  {
   "cell_type": "code",
   "execution_count": 8,
   "id": "8b8a2731",
   "metadata": {
    "scrolled": false
   },
   "outputs": [
    {
     "data": {
      "text/html": [
       "<div>\n",
       "<style scoped>\n",
       "    .dataframe tbody tr th:only-of-type {\n",
       "        vertical-align: middle;\n",
       "    }\n",
       "\n",
       "    .dataframe tbody tr th {\n",
       "        vertical-align: top;\n",
       "    }\n",
       "\n",
       "    .dataframe thead th {\n",
       "        text-align: right;\n",
       "    }\n",
       "</style>\n",
       "<table border=\"1\" class=\"dataframe\">\n",
       "  <thead>\n",
       "    <tr style=\"text-align: right;\">\n",
       "      <th></th>\n",
       "      <th>id</th>\n",
       "      <th>user_id</th>\n",
       "      <th>venue_id</th>\n",
       "      <th>latitude</th>\n",
       "      <th>longitude</th>\n",
       "      <th>created_at</th>\n",
       "    </tr>\n",
       "  </thead>\n",
       "  <tbody>\n",
       "    <tr>\n",
       "      <th>1</th>\n",
       "      <td>984222</td>\n",
       "      <td>15824.0</td>\n",
       "      <td>5222.0</td>\n",
       "      <td>38.895112</td>\n",
       "      <td>-77.036366</td>\n",
       "      <td>2012-04-21 17:43:47</td>\n",
       "    </tr>\n",
       "    <tr>\n",
       "      <th>3</th>\n",
       "      <td>984234</td>\n",
       "      <td>44652.0</td>\n",
       "      <td>5222.0</td>\n",
       "      <td>33.800745</td>\n",
       "      <td>-84.410520</td>\n",
       "      <td>2012-04-21 17:43:43</td>\n",
       "    </tr>\n",
       "    <tr>\n",
       "      <th>7</th>\n",
       "      <td>984291</td>\n",
       "      <td>105054.0</td>\n",
       "      <td>5222.0</td>\n",
       "      <td>45.523452</td>\n",
       "      <td>-122.676207</td>\n",
       "      <td>2012-04-21 17:39:22</td>\n",
       "    </tr>\n",
       "    <tr>\n",
       "      <th>9</th>\n",
       "      <td>984318</td>\n",
       "      <td>2146539.0</td>\n",
       "      <td>5222.0</td>\n",
       "      <td>40.764462</td>\n",
       "      <td>-111.904565</td>\n",
       "      <td>2012-04-21 17:35:46</td>\n",
       "    </tr>\n",
       "    <tr>\n",
       "      <th>10</th>\n",
       "      <td>984232</td>\n",
       "      <td>93870.0</td>\n",
       "      <td>380645.0</td>\n",
       "      <td>33.448377</td>\n",
       "      <td>-112.074037</td>\n",
       "      <td>2012-04-21 17:38:18</td>\n",
       "    </tr>\n",
       "    <tr>\n",
       "      <th>...</th>\n",
       "      <td>...</td>\n",
       "      <td>...</td>\n",
       "      <td>...</td>\n",
       "      <td>...</td>\n",
       "      <td>...</td>\n",
       "      <td>...</td>\n",
       "    </tr>\n",
       "    <tr>\n",
       "      <th>1021959</th>\n",
       "      <td>955561</td>\n",
       "      <td>626076.0</td>\n",
       "      <td>20073.0</td>\n",
       "      <td>40.850100</td>\n",
       "      <td>-73.866246</td>\n",
       "      <td>2012-04-13 09:56:48</td>\n",
       "    </tr>\n",
       "    <tr>\n",
       "      <th>1021960</th>\n",
       "      <td>955892</td>\n",
       "      <td>674797.0</td>\n",
       "      <td>2297.0</td>\n",
       "      <td>33.748995</td>\n",
       "      <td>-84.387982</td>\n",
       "      <td>2012-04-13 10:56:03</td>\n",
       "    </tr>\n",
       "    <tr>\n",
       "      <th>1021961</th>\n",
       "      <td>956377</td>\n",
       "      <td>845102.0</td>\n",
       "      <td>11195.0</td>\n",
       "      <td>42.765366</td>\n",
       "      <td>-71.467566</td>\n",
       "      <td>2012-04-13 12:08:45</td>\n",
       "    </tr>\n",
       "    <tr>\n",
       "      <th>1021962</th>\n",
       "      <td>956119</td>\n",
       "      <td>1139114.0</td>\n",
       "      <td>29488.0</td>\n",
       "      <td>42.439479</td>\n",
       "      <td>-83.743830</td>\n",
       "      <td>2012-04-13 11:36:44</td>\n",
       "    </tr>\n",
       "    <tr>\n",
       "      <th>1021964</th>\n",
       "      <td>956733</td>\n",
       "      <td>960666.0</td>\n",
       "      <td>60.0</td>\n",
       "      <td>42.331427</td>\n",
       "      <td>-83.045754</td>\n",
       "      <td>2012-04-13 21:56:19</td>\n",
       "    </tr>\n",
       "  </tbody>\n",
       "</table>\n",
       "<p>396634 rows × 6 columns</p>\n",
       "</div>"
      ],
      "text/plain": [
       "          id       user_id   venue_id   latitude        longitude       \\\n",
       "1         984222    15824.0     5222.0       38.895112      -77.036366   \n",
       "3         984234    44652.0     5222.0       33.800745      -84.410520   \n",
       "7         984291   105054.0     5222.0       45.523452     -122.676207   \n",
       "9         984318  2146539.0     5222.0       40.764462     -111.904565   \n",
       "10        984232    93870.0   380645.0       33.448377     -112.074037   \n",
       "...          ...        ...        ...             ...             ...   \n",
       "1021959  955561    626076.0    20073.0       40.850100      -73.866246   \n",
       "1021960  955892    674797.0     2297.0       33.748995      -84.387982   \n",
       "1021961  956377    845102.0    11195.0       42.765366      -71.467566   \n",
       "1021962  956119   1139114.0    29488.0       42.439479      -83.743830   \n",
       "1021964  956733    960666.0       60.0       42.331427      -83.045754   \n",
       "\n",
       "            created_at        \n",
       "1        2012-04-21 17:43:47  \n",
       "3        2012-04-21 17:43:43  \n",
       "7        2012-04-21 17:39:22  \n",
       "9        2012-04-21 17:35:46  \n",
       "10       2012-04-21 17:38:18  \n",
       "...                      ...  \n",
       "1021959  2012-04-13 09:56:48  \n",
       "1021960  2012-04-13 10:56:03  \n",
       "1021961  2012-04-13 12:08:45  \n",
       "1021962  2012-04-13 11:36:44  \n",
       "1021964  2012-04-13 21:56:19  \n",
       "\n",
       "[396634 rows x 6 columns]"
      ]
     },
     "execution_count": 8,
     "metadata": {},
     "output_type": "execute_result"
    }
   ],
   "source": [
    "data"
   ]
  },
  {
   "cell_type": "code",
   "execution_count": 9,
   "id": "1c03c3d6",
   "metadata": {},
   "outputs": [
    {
     "data": {
      "text/plain": [
       "(100000, 2)"
      ]
     },
     "execution_count": 9,
     "metadata": {},
     "output_type": "execute_result"
    }
   ],
   "source": [
    "sliced_data = data.iloc[:100000, 3:5]\n",
    "sliced_data.shape"
   ]
  },
  {
   "cell_type": "markdown",
   "id": "d96cf411",
   "metadata": {},
   "source": [
    "Используем MeanShift, указав bandwidth=0.1, что в переводе из градусов в метры колеблется примерно от 5 до 10 км в средних широтах."
   ]
  },
  {
   "cell_type": "code",
   "execution_count": 10,
   "id": "e7e308b4",
   "metadata": {},
   "outputs": [],
   "source": [
    "from sklearn.cluster import MeanShift"
   ]
  },
  {
   "cell_type": "code",
   "execution_count": 11,
   "id": "e23a78aa",
   "metadata": {},
   "outputs": [],
   "source": [
    "clustering = MeanShift(bandwidth=0.1)"
   ]
  },
  {
   "cell_type": "code",
   "execution_count": 12,
   "id": "1d612a18",
   "metadata": {},
   "outputs": [],
   "source": [
    "cl = clustering.fit(sliced_data)"
   ]
  },
  {
   "cell_type": "code",
   "execution_count": 13,
   "id": "02ef25e9",
   "metadata": {},
   "outputs": [],
   "source": [
    "labels = cl.labels_"
   ]
  },
  {
   "cell_type": "code",
   "execution_count": 14,
   "id": "ba7b6077",
   "metadata": {},
   "outputs": [
    {
     "data": {
      "text/plain": [
       "array([[  40.7177164 ,  -73.99183542],\n",
       "       [  33.44943805, -112.00213969],\n",
       "       [  33.44638027, -111.90188756],\n",
       "       ...,\n",
       "       [ -37.8229826 ,  145.1811902 ],\n",
       "       [ -41.2924945 ,  174.7732353 ],\n",
       "       [ -45.0311622 ,  168.6626435 ]])"
      ]
     },
     "execution_count": 14,
     "metadata": {},
     "output_type": "execute_result"
    }
   ],
   "source": [
    "cluster_centers = cl.cluster_centers_\n",
    "cluster_centers"
   ]
  },
  {
   "cell_type": "code",
   "execution_count": 15,
   "id": "227c9e53",
   "metadata": {},
   "outputs": [
    {
     "name": "stdout",
     "output_type": "stream",
     "text": [
      "Количество выбранных кластеров : 3231\n"
     ]
    }
   ],
   "source": [
    "print('Количество выбранных кластеров : %d' % len(cluster_centers))"
   ]
  },
  {
   "cell_type": "code",
   "execution_count": 16,
   "id": "d7f0b62a",
   "metadata": {},
   "outputs": [],
   "source": [
    "unique_labels, labels_counts = np.unique(labels, return_counts=True)"
   ]
  },
  {
   "cell_type": "code",
   "execution_count": 17,
   "id": "7fb1a9a6",
   "metadata": {},
   "outputs": [
    {
     "name": "stdout",
     "output_type": "stream",
     "text": [
      "Количество кластеров с числом элементов больше 15: 592\n"
     ]
    }
   ],
   "source": [
    "labels_more15 = list()\n",
    "for index, count in enumerate(labels_counts):\n",
    "    if count > 15:\n",
    "        labels_more15.append(unique_labels[index])\n",
    "print('Количество кластеров с числом элементов больше 15: %d' % len(labels_more15))"
   ]
  },
  {
   "cell_type": "code",
   "execution_count": 18,
   "id": "994b3b7a",
   "metadata": {},
   "outputs": [
    {
     "name": "stdout",
     "output_type": "stream",
     "text": [
      "(592, 2)\n"
     ]
    }
   ],
   "source": [
    "cluster_centers_more15 = np.empty((len(labels_more15), 2))\n",
    "for index, label in enumerate(labels_more15):\n",
    "    cluster_centers_more15[index] = cluster_centers[label]\n",
    "print(cluster_centers_more15.shape)"
   ]
  },
  {
   "cell_type": "code",
   "execution_count": 19,
   "id": "dc72a162",
   "metadata": {},
   "outputs": [],
   "source": [
    "offices = pd.read_csv('offices.csv')"
   ]
  },
  {
   "cell_type": "code",
   "execution_count": 20,
   "id": "56dc9112",
   "metadata": {},
   "outputs": [],
   "source": [
    "def distance(x, y):\n",
    "    return (np.sqrt(np.sum (x - y) ** 2))"
   ]
  },
  {
   "cell_type": "code",
   "execution_count": 21,
   "id": "6924fb80",
   "metadata": {},
   "outputs": [],
   "source": [
    "distances_from_nearest_office = np.empty(cluster_centers_more15.shape[0])\n",
    "for index, center in enumerate(cluster_centers_more15):\n",
    "    min_distance = distance(center, offices.loc[0])\n",
    "    for j in range(len(offices)):\n",
    "        dist = distance(center, offices.loc[j])\n",
    "        if dist < min_distance:\n",
    "            min_distance = dist\n",
    "    distances_from_nearest_office[index] = min_distance\n",
    "\n",
    "sort_ind = np.argsort(distances_from_nearest_office)\n",
    "final_dist = distances_from_nearest_office[sort_ind]\n",
    "final_coord = cluster_centers_more15[sort_ind]"
   ]
  },
  {
   "cell_type": "code",
   "execution_count": 22,
   "id": "eab4d198",
   "metadata": {},
   "outputs": [
    {
     "name": "stdout",
     "output_type": "stream",
     "text": [
      "Минимальная дистанция: 0.0013032129032541917\n",
      "[52.37296399  4.89231722]\n"
     ]
    }
   ],
   "source": [
    "print('Минимальная дистанция:',final_dist[0])\n",
    "print(final_coord[0])"
   ]
  }
 ],
 "metadata": {
  "kernelspec": {
   "display_name": "Python 3 (ipykernel)",
   "language": "python",
   "name": "python3"
  },
  "language_info": {
   "codemirror_mode": {
    "name": "ipython",
    "version": 3
   },
   "file_extension": ".py",
   "mimetype": "text/x-python",
   "name": "python",
   "nbconvert_exporter": "python",
   "pygments_lexer": "ipython3",
   "version": "3.8.12"
  }
 },
 "nbformat": 4,
 "nbformat_minor": 5
}
